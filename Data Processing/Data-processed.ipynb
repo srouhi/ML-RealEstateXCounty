{
 "cells": [
  {
   "cell_type": "code",
   "execution_count": 3,
   "metadata": {},
   "outputs": [
    {
     "name": "stderr",
     "output_type": "stream",
     "text": [
      "Summarize dataset: 100%|██████████| 100/100 [00:08<00:00, 11.28it/s, Completed]                         \n",
      "Generate report structure: 100%|██████████| 1/1 [00:02<00:00,  2.78s/it]\n",
      "Render HTML: 100%|██████████| 1/1 [00:01<00:00,  1.25s/it]\n",
      "Export report to file: 100%|██████████| 1/1 [00:00<00:00, 59.72it/s]\n"
     ]
    }
   ],
   "source": [
    "import pandas as pd\n",
    "from ydata_profiling import ProfileReport\n",
    "\n",
    "kings = pd.read_csv('C:/Users/shagh/OneDrive/Desktop/College/Classes/Fall 2024/MATH 435/Final Project/housing-price-prediction-ANN/PricePredictK/Housing-Price-Prediction-Kun-yu/Kings.csv')\n",
    "\n",
    "profile = ProfileReport(kings, title= \"property profile\")\n",
    "profile.to_file(\"property_report_Kings.html\")\n"
   ]
  },
  {
   "cell_type": "code",
   "execution_count": 4,
   "metadata": {},
   "outputs": [
    {
     "name": "stderr",
     "output_type": "stream",
     "text": [
      "Summarize dataset: 100%|██████████| 100/100 [00:07<00:00, 14.27it/s, Completed]                         \n",
      "Generate report structure: 100%|██████████| 1/1 [00:02<00:00,  2.17s/it]\n",
      "Render HTML: 100%|██████████| 1/1 [00:01<00:00,  1.22s/it]\n",
      "Export report to file: 100%|██████████| 1/1 [00:00<00:00, 31.71it/s]\n"
     ]
    }
   ],
   "source": [
    "import pandas as pd\n",
    "from ydata_profiling import ProfileReport\n",
    "\n",
    "Lanc = pd.read_csv('C:/Users/shagh/OneDrive/Desktop/College/Classes/Fall 2024/MATH 435/Final Project/housing-price-prediction-ANN/PricePredictK/Housing-Price-Prediction-Kun-yu/Lancaster.csv')\n",
    "\n",
    "profile = ProfileReport(Lanc, title= \"property profile\")\n",
    "profile.to_file(\"property_report_Lancaster.html\")"
   ]
  }
 ],
 "metadata": {
  "kernelspec": {
   "display_name": "Python 3",
   "language": "python",
   "name": "python3"
  },
  "language_info": {
   "codemirror_mode": {
    "name": "ipython",
    "version": 3
   },
   "file_extension": ".py",
   "mimetype": "text/x-python",
   "name": "python",
   "nbconvert_exporter": "python",
   "pygments_lexer": "ipython3",
   "version": "3.11.7"
  }
 },
 "nbformat": 4,
 "nbformat_minor": 2
}
